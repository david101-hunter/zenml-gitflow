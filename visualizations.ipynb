{
 "cells": [
  {
   "cell_type": "code",
   "execution_count": null,
   "id": "d2d55ace",
   "metadata": {},
   "outputs": [],
   "source": [
    "from zenml.integrations.deepchecks.visualizers import DeepchecksVisualizer\n",
    "from zenml.integrations.evidently.visualizers import EvidentlyVisualizer\n",
    "from zenml.post_execution import get_pipeline"
   ]
  },
  {
   "cell_type": "code",
   "execution_count": null,
   "id": "c7cbac0e",
   "metadata": {},
   "outputs": [],
   "source": [
    "def visualize_results_deepchecks(pipeline_name: str, step_name: str) -> None:\n",
    "    pipeline = get_pipeline(pipeline=pipeline_name)\n",
    "    last_run = pipeline.runs[-2]\n",
    "    step = last_run.get_step(step=step_name)\n",
    "    DeepchecksVisualizer().visualize(step)\n",
    "    \n",
    "def visualize_results_evidently(pipeline_name: str, step_name: str) -> None:\n",
    "    pipeline = get_pipeline(pipeline=pipeline_name)\n",
    "    last_run = pipeline.runs[-2]\n",
    "    step = last_run.get_step(step=step_name)\n",
    "    EvidentlyVisualizer().visualize(step)"
   ]
  },
  {
   "cell_type": "code",
   "execution_count": null,
   "id": "77d01e90",
   "metadata": {},
   "outputs": [],
   "source": [
    "!zenml stack set vertex_gitflow_stack"
   ]
  },
  {
   "cell_type": "code",
   "execution_count": null,
   "id": "3cf86a63",
   "metadata": {
    "scrolled": false
   },
   "outputs": [],
   "source": [
    "from zenml.client import Client\n",
    "client = Client()\n",
    "client.active_stack\n",
    "visualize_results_deepchecks(\"staging_train_and_deploy_pipeline\", \"data_validator\")"
   ]
  },
  {
   "cell_type": "code",
   "execution_count": null,
   "id": "25d9bbf7",
   "metadata": {},
   "outputs": [],
   "source": [
    "!zenml stack set kubeflow_gitflow_stack"
   ]
  },
  {
   "cell_type": "code",
   "execution_count": null,
   "id": "471652b6",
   "metadata": {
    "scrolled": false
   },
   "outputs": [],
   "source": [
    "from zenml.client import Client\n",
    "client = Client()\n",
    "client.active_stack\n",
    "visualize_results_evidently(\"prod_train_and_deploy_pipeline\", \"data_validator\")"
   ]
  }
 ],
 "metadata": {
  "kernelspec": {
   "display_name": "Python 3 (ipykernel)",
   "language": "python",
   "name": "python3"
  },
  "language_info": {
   "codemirror_mode": {
    "name": "ipython",
    "version": 3
   },
   "file_extension": ".py",
   "mimetype": "text/x-python",
   "name": "python",
   "nbconvert_exporter": "python",
   "pygments_lexer": "ipython3",
   "version": "3.8.10"
  }
 },
 "nbformat": 4,
 "nbformat_minor": 5
}
